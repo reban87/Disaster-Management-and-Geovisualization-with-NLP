{
  "nbformat": 4,
  "nbformat_minor": 0,
  "metadata": {
    "colab": {
      "provenance": [],
      "gpuType": "T4"
    },
    "kernelspec": {
      "name": "python3",
      "display_name": "Python 3"
    },
    "language_info": {
      "name": "python"
    },
    "accelerator": "GPU",
    "widgets": {
      "application/vnd.jupyter.widget-state+json": {
        "ae897a9c1ba94e96a9e9751e7b7ced76": {
          "model_module": "@jupyter-widgets/controls",
          "model_name": "HBoxModel",
          "model_module_version": "1.5.0",
          "state": {
            "_dom_classes": [],
            "_model_module": "@jupyter-widgets/controls",
            "_model_module_version": "1.5.0",
            "_model_name": "HBoxModel",
            "_view_count": null,
            "_view_module": "@jupyter-widgets/controls",
            "_view_module_version": "1.5.0",
            "_view_name": "HBoxView",
            "box_style": "",
            "children": [
              "IPY_MODEL_7911dbce1fff4b8d97ea6be8b3bf3890",
              "IPY_MODEL_6b6e168546ff49619d617832e2de312a",
              "IPY_MODEL_95c86bbc2b344758b06dd8436e0d420d"
            ],
            "layout": "IPY_MODEL_a74a867773ff4d849150b2bfbff3d2e7"
          }
        },
        "7911dbce1fff4b8d97ea6be8b3bf3890": {
          "model_module": "@jupyter-widgets/controls",
          "model_name": "HTMLModel",
          "model_module_version": "1.5.0",
          "state": {
            "_dom_classes": [],
            "_model_module": "@jupyter-widgets/controls",
            "_model_module_version": "1.5.0",
            "_model_name": "HTMLModel",
            "_view_count": null,
            "_view_module": "@jupyter-widgets/controls",
            "_view_module_version": "1.5.0",
            "_view_name": "HTMLView",
            "description": "",
            "description_tooltip": null,
            "layout": "IPY_MODEL_bb71e69e63194171a6386a0f1fdd76b7",
            "placeholder": "​",
            "style": "IPY_MODEL_2b0be8ee05d747bf84a8a3657b1c1fa9",
            "value": "Map: 100%"
          }
        },
        "6b6e168546ff49619d617832e2de312a": {
          "model_module": "@jupyter-widgets/controls",
          "model_name": "FloatProgressModel",
          "model_module_version": "1.5.0",
          "state": {
            "_dom_classes": [],
            "_model_module": "@jupyter-widgets/controls",
            "_model_module_version": "1.5.0",
            "_model_name": "FloatProgressModel",
            "_view_count": null,
            "_view_module": "@jupyter-widgets/controls",
            "_view_module_version": "1.5.0",
            "_view_name": "ProgressView",
            "bar_style": "success",
            "description": "",
            "description_tooltip": null,
            "layout": "IPY_MODEL_0fd7218c379f4688b69272f76f530d12",
            "max": 701,
            "min": 0,
            "orientation": "horizontal",
            "style": "IPY_MODEL_0b4452a51f3a4786b1dc20224e57b55b",
            "value": 701
          }
        },
        "95c86bbc2b344758b06dd8436e0d420d": {
          "model_module": "@jupyter-widgets/controls",
          "model_name": "HTMLModel",
          "model_module_version": "1.5.0",
          "state": {
            "_dom_classes": [],
            "_model_module": "@jupyter-widgets/controls",
            "_model_module_version": "1.5.0",
            "_model_name": "HTMLModel",
            "_view_count": null,
            "_view_module": "@jupyter-widgets/controls",
            "_view_module_version": "1.5.0",
            "_view_name": "HTMLView",
            "description": "",
            "description_tooltip": null,
            "layout": "IPY_MODEL_1475cc5f831c40c9bcd8aab453844848",
            "placeholder": "​",
            "style": "IPY_MODEL_545700e18daf4d9993dcad6a792a71fd",
            "value": " 701/701 [00:00&lt;00:00, 738.35 examples/s]"
          }
        },
        "a74a867773ff4d849150b2bfbff3d2e7": {
          "model_module": "@jupyter-widgets/base",
          "model_name": "LayoutModel",
          "model_module_version": "1.2.0",
          "state": {
            "_model_module": "@jupyter-widgets/base",
            "_model_module_version": "1.2.0",
            "_model_name": "LayoutModel",
            "_view_count": null,
            "_view_module": "@jupyter-widgets/base",
            "_view_module_version": "1.2.0",
            "_view_name": "LayoutView",
            "align_content": null,
            "align_items": null,
            "align_self": null,
            "border": null,
            "bottom": null,
            "display": null,
            "flex": null,
            "flex_flow": null,
            "grid_area": null,
            "grid_auto_columns": null,
            "grid_auto_flow": null,
            "grid_auto_rows": null,
            "grid_column": null,
            "grid_gap": null,
            "grid_row": null,
            "grid_template_areas": null,
            "grid_template_columns": null,
            "grid_template_rows": null,
            "height": null,
            "justify_content": null,
            "justify_items": null,
            "left": null,
            "margin": null,
            "max_height": null,
            "max_width": null,
            "min_height": null,
            "min_width": null,
            "object_fit": null,
            "object_position": null,
            "order": null,
            "overflow": null,
            "overflow_x": null,
            "overflow_y": null,
            "padding": null,
            "right": null,
            "top": null,
            "visibility": null,
            "width": null
          }
        },
        "bb71e69e63194171a6386a0f1fdd76b7": {
          "model_module": "@jupyter-widgets/base",
          "model_name": "LayoutModel",
          "model_module_version": "1.2.0",
          "state": {
            "_model_module": "@jupyter-widgets/base",
            "_model_module_version": "1.2.0",
            "_model_name": "LayoutModel",
            "_view_count": null,
            "_view_module": "@jupyter-widgets/base",
            "_view_module_version": "1.2.0",
            "_view_name": "LayoutView",
            "align_content": null,
            "align_items": null,
            "align_self": null,
            "border": null,
            "bottom": null,
            "display": null,
            "flex": null,
            "flex_flow": null,
            "grid_area": null,
            "grid_auto_columns": null,
            "grid_auto_flow": null,
            "grid_auto_rows": null,
            "grid_column": null,
            "grid_gap": null,
            "grid_row": null,
            "grid_template_areas": null,
            "grid_template_columns": null,
            "grid_template_rows": null,
            "height": null,
            "justify_content": null,
            "justify_items": null,
            "left": null,
            "margin": null,
            "max_height": null,
            "max_width": null,
            "min_height": null,
            "min_width": null,
            "object_fit": null,
            "object_position": null,
            "order": null,
            "overflow": null,
            "overflow_x": null,
            "overflow_y": null,
            "padding": null,
            "right": null,
            "top": null,
            "visibility": null,
            "width": null
          }
        },
        "2b0be8ee05d747bf84a8a3657b1c1fa9": {
          "model_module": "@jupyter-widgets/controls",
          "model_name": "DescriptionStyleModel",
          "model_module_version": "1.5.0",
          "state": {
            "_model_module": "@jupyter-widgets/controls",
            "_model_module_version": "1.5.0",
            "_model_name": "DescriptionStyleModel",
            "_view_count": null,
            "_view_module": "@jupyter-widgets/base",
            "_view_module_version": "1.2.0",
            "_view_name": "StyleView",
            "description_width": ""
          }
        },
        "0fd7218c379f4688b69272f76f530d12": {
          "model_module": "@jupyter-widgets/base",
          "model_name": "LayoutModel",
          "model_module_version": "1.2.0",
          "state": {
            "_model_module": "@jupyter-widgets/base",
            "_model_module_version": "1.2.0",
            "_model_name": "LayoutModel",
            "_view_count": null,
            "_view_module": "@jupyter-widgets/base",
            "_view_module_version": "1.2.0",
            "_view_name": "LayoutView",
            "align_content": null,
            "align_items": null,
            "align_self": null,
            "border": null,
            "bottom": null,
            "display": null,
            "flex": null,
            "flex_flow": null,
            "grid_area": null,
            "grid_auto_columns": null,
            "grid_auto_flow": null,
            "grid_auto_rows": null,
            "grid_column": null,
            "grid_gap": null,
            "grid_row": null,
            "grid_template_areas": null,
            "grid_template_columns": null,
            "grid_template_rows": null,
            "height": null,
            "justify_content": null,
            "justify_items": null,
            "left": null,
            "margin": null,
            "max_height": null,
            "max_width": null,
            "min_height": null,
            "min_width": null,
            "object_fit": null,
            "object_position": null,
            "order": null,
            "overflow": null,
            "overflow_x": null,
            "overflow_y": null,
            "padding": null,
            "right": null,
            "top": null,
            "visibility": null,
            "width": null
          }
        },
        "0b4452a51f3a4786b1dc20224e57b55b": {
          "model_module": "@jupyter-widgets/controls",
          "model_name": "ProgressStyleModel",
          "model_module_version": "1.5.0",
          "state": {
            "_model_module": "@jupyter-widgets/controls",
            "_model_module_version": "1.5.0",
            "_model_name": "ProgressStyleModel",
            "_view_count": null,
            "_view_module": "@jupyter-widgets/base",
            "_view_module_version": "1.2.0",
            "_view_name": "StyleView",
            "bar_color": null,
            "description_width": ""
          }
        },
        "1475cc5f831c40c9bcd8aab453844848": {
          "model_module": "@jupyter-widgets/base",
          "model_name": "LayoutModel",
          "model_module_version": "1.2.0",
          "state": {
            "_model_module": "@jupyter-widgets/base",
            "_model_module_version": "1.2.0",
            "_model_name": "LayoutModel",
            "_view_count": null,
            "_view_module": "@jupyter-widgets/base",
            "_view_module_version": "1.2.0",
            "_view_name": "LayoutView",
            "align_content": null,
            "align_items": null,
            "align_self": null,
            "border": null,
            "bottom": null,
            "display": null,
            "flex": null,
            "flex_flow": null,
            "grid_area": null,
            "grid_auto_columns": null,
            "grid_auto_flow": null,
            "grid_auto_rows": null,
            "grid_column": null,
            "grid_gap": null,
            "grid_row": null,
            "grid_template_areas": null,
            "grid_template_columns": null,
            "grid_template_rows": null,
            "height": null,
            "justify_content": null,
            "justify_items": null,
            "left": null,
            "margin": null,
            "max_height": null,
            "max_width": null,
            "min_height": null,
            "min_width": null,
            "object_fit": null,
            "object_position": null,
            "order": null,
            "overflow": null,
            "overflow_x": null,
            "overflow_y": null,
            "padding": null,
            "right": null,
            "top": null,
            "visibility": null,
            "width": null
          }
        },
        "545700e18daf4d9993dcad6a792a71fd": {
          "model_module": "@jupyter-widgets/controls",
          "model_name": "DescriptionStyleModel",
          "model_module_version": "1.5.0",
          "state": {
            "_model_module": "@jupyter-widgets/controls",
            "_model_module_version": "1.5.0",
            "_model_name": "DescriptionStyleModel",
            "_view_count": null,
            "_view_module": "@jupyter-widgets/base",
            "_view_module_version": "1.2.0",
            "_view_name": "StyleView",
            "description_width": ""
          }
        },
        "2c6e23087baa4c20a3cd7d58bbd70220": {
          "model_module": "@jupyter-widgets/controls",
          "model_name": "HBoxModel",
          "model_module_version": "1.5.0",
          "state": {
            "_dom_classes": [],
            "_model_module": "@jupyter-widgets/controls",
            "_model_module_version": "1.5.0",
            "_model_name": "HBoxModel",
            "_view_count": null,
            "_view_module": "@jupyter-widgets/controls",
            "_view_module_version": "1.5.0",
            "_view_name": "HBoxView",
            "box_style": "",
            "children": [
              "IPY_MODEL_8823f879617444919788bc03825f0114",
              "IPY_MODEL_2153b12c1d7a4537b4259f2961a0843c",
              "IPY_MODEL_23a954d913b04ad5bd9563264007aa97"
            ],
            "layout": "IPY_MODEL_14dd7ac639484ba4a2f3683aba5236bc"
          }
        },
        "8823f879617444919788bc03825f0114": {
          "model_module": "@jupyter-widgets/controls",
          "model_name": "HTMLModel",
          "model_module_version": "1.5.0",
          "state": {
            "_dom_classes": [],
            "_model_module": "@jupyter-widgets/controls",
            "_model_module_version": "1.5.0",
            "_model_name": "HTMLModel",
            "_view_count": null,
            "_view_module": "@jupyter-widgets/controls",
            "_view_module_version": "1.5.0",
            "_view_name": "HTMLView",
            "description": "",
            "description_tooltip": null,
            "layout": "IPY_MODEL_4c13d053cfa64710a7181caa3b2558f8",
            "placeholder": "​",
            "style": "IPY_MODEL_57cc4a59e2524690babf71b8f2d72cfa",
            "value": "Map: 100%"
          }
        },
        "2153b12c1d7a4537b4259f2961a0843c": {
          "model_module": "@jupyter-widgets/controls",
          "model_name": "FloatProgressModel",
          "model_module_version": "1.5.0",
          "state": {
            "_dom_classes": [],
            "_model_module": "@jupyter-widgets/controls",
            "_model_module_version": "1.5.0",
            "_model_name": "FloatProgressModel",
            "_view_count": null,
            "_view_module": "@jupyter-widgets/controls",
            "_view_module_version": "1.5.0",
            "_view_name": "ProgressView",
            "bar_style": "success",
            "description": "",
            "description_tooltip": null,
            "layout": "IPY_MODEL_757f24e8e49f4e4a8fc67ce2ce4f8ead",
            "max": 301,
            "min": 0,
            "orientation": "horizontal",
            "style": "IPY_MODEL_e812ca7648bb4ae19002189532b7e73f",
            "value": 301
          }
        },
        "23a954d913b04ad5bd9563264007aa97": {
          "model_module": "@jupyter-widgets/controls",
          "model_name": "HTMLModel",
          "model_module_version": "1.5.0",
          "state": {
            "_dom_classes": [],
            "_model_module": "@jupyter-widgets/controls",
            "_model_module_version": "1.5.0",
            "_model_name": "HTMLModel",
            "_view_count": null,
            "_view_module": "@jupyter-widgets/controls",
            "_view_module_version": "1.5.0",
            "_view_name": "HTMLView",
            "description": "",
            "description_tooltip": null,
            "layout": "IPY_MODEL_a6375c0130d64078b36100ea34b041a2",
            "placeholder": "​",
            "style": "IPY_MODEL_9e54914182cd4d7b828847853a776964",
            "value": " 301/301 [00:00&lt;00:00, 720.32 examples/s]"
          }
        },
        "14dd7ac639484ba4a2f3683aba5236bc": {
          "model_module": "@jupyter-widgets/base",
          "model_name": "LayoutModel",
          "model_module_version": "1.2.0",
          "state": {
            "_model_module": "@jupyter-widgets/base",
            "_model_module_version": "1.2.0",
            "_model_name": "LayoutModel",
            "_view_count": null,
            "_view_module": "@jupyter-widgets/base",
            "_view_module_version": "1.2.0",
            "_view_name": "LayoutView",
            "align_content": null,
            "align_items": null,
            "align_self": null,
            "border": null,
            "bottom": null,
            "display": null,
            "flex": null,
            "flex_flow": null,
            "grid_area": null,
            "grid_auto_columns": null,
            "grid_auto_flow": null,
            "grid_auto_rows": null,
            "grid_column": null,
            "grid_gap": null,
            "grid_row": null,
            "grid_template_areas": null,
            "grid_template_columns": null,
            "grid_template_rows": null,
            "height": null,
            "justify_content": null,
            "justify_items": null,
            "left": null,
            "margin": null,
            "max_height": null,
            "max_width": null,
            "min_height": null,
            "min_width": null,
            "object_fit": null,
            "object_position": null,
            "order": null,
            "overflow": null,
            "overflow_x": null,
            "overflow_y": null,
            "padding": null,
            "right": null,
            "top": null,
            "visibility": null,
            "width": null
          }
        },
        "4c13d053cfa64710a7181caa3b2558f8": {
          "model_module": "@jupyter-widgets/base",
          "model_name": "LayoutModel",
          "model_module_version": "1.2.0",
          "state": {
            "_model_module": "@jupyter-widgets/base",
            "_model_module_version": "1.2.0",
            "_model_name": "LayoutModel",
            "_view_count": null,
            "_view_module": "@jupyter-widgets/base",
            "_view_module_version": "1.2.0",
            "_view_name": "LayoutView",
            "align_content": null,
            "align_items": null,
            "align_self": null,
            "border": null,
            "bottom": null,
            "display": null,
            "flex": null,
            "flex_flow": null,
            "grid_area": null,
            "grid_auto_columns": null,
            "grid_auto_flow": null,
            "grid_auto_rows": null,
            "grid_column": null,
            "grid_gap": null,
            "grid_row": null,
            "grid_template_areas": null,
            "grid_template_columns": null,
            "grid_template_rows": null,
            "height": null,
            "justify_content": null,
            "justify_items": null,
            "left": null,
            "margin": null,
            "max_height": null,
            "max_width": null,
            "min_height": null,
            "min_width": null,
            "object_fit": null,
            "object_position": null,
            "order": null,
            "overflow": null,
            "overflow_x": null,
            "overflow_y": null,
            "padding": null,
            "right": null,
            "top": null,
            "visibility": null,
            "width": null
          }
        },
        "57cc4a59e2524690babf71b8f2d72cfa": {
          "model_module": "@jupyter-widgets/controls",
          "model_name": "DescriptionStyleModel",
          "model_module_version": "1.5.0",
          "state": {
            "_model_module": "@jupyter-widgets/controls",
            "_model_module_version": "1.5.0",
            "_model_name": "DescriptionStyleModel",
            "_view_count": null,
            "_view_module": "@jupyter-widgets/base",
            "_view_module_version": "1.2.0",
            "_view_name": "StyleView",
            "description_width": ""
          }
        },
        "757f24e8e49f4e4a8fc67ce2ce4f8ead": {
          "model_module": "@jupyter-widgets/base",
          "model_name": "LayoutModel",
          "model_module_version": "1.2.0",
          "state": {
            "_model_module": "@jupyter-widgets/base",
            "_model_module_version": "1.2.0",
            "_model_name": "LayoutModel",
            "_view_count": null,
            "_view_module": "@jupyter-widgets/base",
            "_view_module_version": "1.2.0",
            "_view_name": "LayoutView",
            "align_content": null,
            "align_items": null,
            "align_self": null,
            "border": null,
            "bottom": null,
            "display": null,
            "flex": null,
            "flex_flow": null,
            "grid_area": null,
            "grid_auto_columns": null,
            "grid_auto_flow": null,
            "grid_auto_rows": null,
            "grid_column": null,
            "grid_gap": null,
            "grid_row": null,
            "grid_template_areas": null,
            "grid_template_columns": null,
            "grid_template_rows": null,
            "height": null,
            "justify_content": null,
            "justify_items": null,
            "left": null,
            "margin": null,
            "max_height": null,
            "max_width": null,
            "min_height": null,
            "min_width": null,
            "object_fit": null,
            "object_position": null,
            "order": null,
            "overflow": null,
            "overflow_x": null,
            "overflow_y": null,
            "padding": null,
            "right": null,
            "top": null,
            "visibility": null,
            "width": null
          }
        },
        "e812ca7648bb4ae19002189532b7e73f": {
          "model_module": "@jupyter-widgets/controls",
          "model_name": "ProgressStyleModel",
          "model_module_version": "1.5.0",
          "state": {
            "_model_module": "@jupyter-widgets/controls",
            "_model_module_version": "1.5.0",
            "_model_name": "ProgressStyleModel",
            "_view_count": null,
            "_view_module": "@jupyter-widgets/base",
            "_view_module_version": "1.2.0",
            "_view_name": "StyleView",
            "bar_color": null,
            "description_width": ""
          }
        },
        "a6375c0130d64078b36100ea34b041a2": {
          "model_module": "@jupyter-widgets/base",
          "model_name": "LayoutModel",
          "model_module_version": "1.2.0",
          "state": {
            "_model_module": "@jupyter-widgets/base",
            "_model_module_version": "1.2.0",
            "_model_name": "LayoutModel",
            "_view_count": null,
            "_view_module": "@jupyter-widgets/base",
            "_view_module_version": "1.2.0",
            "_view_name": "LayoutView",
            "align_content": null,
            "align_items": null,
            "align_self": null,
            "border": null,
            "bottom": null,
            "display": null,
            "flex": null,
            "flex_flow": null,
            "grid_area": null,
            "grid_auto_columns": null,
            "grid_auto_flow": null,
            "grid_auto_rows": null,
            "grid_column": null,
            "grid_gap": null,
            "grid_row": null,
            "grid_template_areas": null,
            "grid_template_columns": null,
            "grid_template_rows": null,
            "height": null,
            "justify_content": null,
            "justify_items": null,
            "left": null,
            "margin": null,
            "max_height": null,
            "max_width": null,
            "min_height": null,
            "min_width": null,
            "object_fit": null,
            "object_position": null,
            "order": null,
            "overflow": null,
            "overflow_x": null,
            "overflow_y": null,
            "padding": null,
            "right": null,
            "top": null,
            "visibility": null,
            "width": null
          }
        },
        "9e54914182cd4d7b828847853a776964": {
          "model_module": "@jupyter-widgets/controls",
          "model_name": "DescriptionStyleModel",
          "model_module_version": "1.5.0",
          "state": {
            "_model_module": "@jupyter-widgets/controls",
            "_model_module_version": "1.5.0",
            "_model_name": "DescriptionStyleModel",
            "_view_count": null,
            "_view_module": "@jupyter-widgets/base",
            "_view_module_version": "1.2.0",
            "_view_name": "StyleView",
            "description_width": ""
          }
        }
      }
    }
  },
  "cells": [
    {
      "cell_type": "markdown",
      "source": [
        "## **Named Entity Recognition**\n",
        "\n",
        "\n",
        "\n",
        "* NER is a common NLP task that identifies entities like people, organizations or locations in text. These entities can be used for various applications such as gaining insights from documents, augmenting the quality of search engines, or building a structured database from a corpus.\n",
        "\n"
      ],
      "metadata": {
        "id": "W12QU0BaUSNe"
      }
    },
    {
      "cell_type": "markdown",
      "source": [
        "### **Initialization**"
      ],
      "metadata": {
        "id": "gTcQGXaiUylH"
      }
    },
    {
      "cell_type": "code",
      "execution_count": null,
      "metadata": {
        "id": "j436foO_T_20"
      },
      "outputs": [],
      "source": [
        "#@ INITIALIZATION:\n",
        "%reload_ext autoreload\n",
        "%autoreload 2\n",
        "%matplotlib inline"
      ]
    },
    {
      "cell_type": "markdown",
      "source": [
        "### **Downloading Libraries and Dependencies**"
      ],
      "metadata": {
        "id": "SeZ6NGvZU8Ww"
      }
    },
    {
      "cell_type": "code",
      "source": [
        "#@ IMPORTING MODULES: UNCOMMENT BELOW:\n",
        "!pip install transformers\n",
        "!pip install datasets\n",
        "!pip install seqeval\n",
        "import nltk\n",
        "nltk.download('punkt')\n",
        "import torch\n",
        "import pandas as pd\n",
        "import glob\n",
        "import json\n",
        "import copy\n",
        "import datasets\n",
        "import numpy as np\n",
        "import os\n",
        "from datasets import Dataset\n",
        "from seqeval.metrics import f1_score\n",
        "from nltk.tokenize import word_tokenize\n",
        "from sklearn.model_selection import train_test_split\n",
        "from transformers import AutoTokenizer\n",
        "from transformers import AutoConfig\n",
        "from transformers import AutoModel\n",
        "from transformers import pipeline\n",
        "from transformers import AutoModelForTokenClassification\n",
        "from transformers import TrainingArguments, Trainer\n",
        "from transformers import DataCollatorForTokenClassification\n",
        "from transformers import EarlyStoppingCallback\n",
        "\n",
        "# #@ IGNORING WARNINGS:\n",
        "import warnings\n",
        "warnings.filterwarnings(\"ignore\")"
      ],
      "metadata": {
        "id": "xpLWPSTQU6gP"
      },
      "execution_count": null,
      "outputs": []
    },
    {
      "cell_type": "markdown",
      "source": [
        "### **The Dataset**"
      ],
      "metadata": {
        "id": "XCN089CTVY0H"
      }
    },
    {
      "cell_type": "code",
      "source": [
        "input_path = '/content/drive/MyDrive/master thesis on NLP/Colab Notebook/Dataset/disaster_data/dataset_015_to_024_bipad/Social Media Types/datasets/1000_Dataset/'\n",
        "output_path = '/content/drive/MyDrive/master thesis on NLP/Colab Notebook/Dataset/disaster_data/dataset_015_to_024_bipad/Social Media Types/datasets/results/ner_results/'"
      ],
      "metadata": {
        "id": "a7b6QNfsWZsF"
      },
      "execution_count": null,
      "outputs": []
    },
    {
      "cell_type": "code",
      "source": [
        "zip_file = 'data1.zip'\n",
        "jsonl_file = 'all.jsonl'\n",
        "path_zip_file = os.path.join(input_path, zip_file)\n",
        "data_path = os.path.join(input_path, jsonl_file)"
      ],
      "metadata": {
        "id": "TKpXgxG2ZxM3"
      },
      "execution_count": null,
      "outputs": []
    },
    {
      "cell_type": "code",
      "source": [
        "import zipfile\n",
        "with zipfile.ZipFile(path_zip_file, 'r') as zip_ref:\n",
        "    zip_ref.extractall(path_zip_file)"
      ],
      "metadata": {
        "id": "wkCQN5fWVKW1"
      },
      "execution_count": null,
      "outputs": []
    },
    {
      "cell_type": "markdown",
      "source": [
        "**Getting the dataset**"
      ],
      "metadata": {
        "id": "fvUXr5_1YzJG"
      }
    },
    {
      "cell_type": "code",
      "source": [
        "json_lines = []\n",
        "with open(data_path, 'r') as f:\n",
        "    json_lines.extend(f.readlines())\n",
        "len(json_lines)"
      ],
      "metadata": {
        "colab": {
          "base_uri": "https://localhost:8080/"
        },
        "id": "iemZE18uXydV",
        "outputId": "1fed9d21-703d-4bd8-c0c7-ec8376d9ae4d"
      },
      "execution_count": null,
      "outputs": [
        {
          "output_type": "execute_result",
          "data": {
            "text/plain": [
              "1002"
            ]
          },
          "metadata": {},
          "execution_count": 6
        }
      ]
    },
    {
      "cell_type": "markdown",
      "source": [
        "### **Processing Dataset**"
      ],
      "metadata": {
        "id": "itwEjIbmb_nT"
      }
    },
    {
      "cell_type": "code",
      "source": [
        "#@ VISUALIZE THE DATASET\n",
        "import json\n",
        "\n",
        "import json\n",
        "\n",
        "def visualize_jsonl(jsonl_file_path, num_objects):\n",
        "    with open(jsonl_file_path, 'r') as file:\n",
        "        # Counter to keep track of the number of JSON objects processed\n",
        "        count = 0\n",
        "        # Read each line of the JSONL file\n",
        "        for line in file:\n",
        "            # Load JSON data from the line\n",
        "            data = json.loads(line)\n",
        "            # Print the JSON data in a readable format\n",
        "            print(json.dumps(data, indent=4))\n",
        "            # Increment the counter\n",
        "            count += 1\n",
        "            # Break the loop if the desired number of JSON objects is reached\n",
        "            if count == num_objects:\n",
        "                break\n",
        "visualize_jsonl(data_path, num_objects=3)"
      ],
      "metadata": {
        "colab": {
          "base_uri": "https://localhost:8080/"
        },
        "id": "Qije-UVWcczU",
        "outputId": "4c056e2d-6b4a-4ff6-f20c-6a95eb7f29b3"
      },
      "execution_count": null,
      "outputs": [
        {
          "output_type": "stream",
          "name": "stdout",
          "text": [
            "{\n",
            "    \"id\": 2805,\n",
            "    \"text\": \"A quick comparison of the ongoing 2020 M6.4 Puerto Rico earthquake sequence and the 2003 M6.5 Central California sequenc\\u00c3\\u00a2\\u00e2\\u201a\\u00ac\\u00c2\\u00a6\",\n",
            "    \"label\": [\n",
            "        [\n",
            "            44,\n",
            "            55,\n",
            "            \"LOC\"\n",
            "        ],\n",
            "        [\n",
            "            56,\n",
            "            66,\n",
            "            \"HAZ\"\n",
            "        ],\n",
            "        [\n",
            "            84,\n",
            "            88,\n",
            "            \"DATE\"\n",
            "        ],\n",
            "        [\n",
            "            94,\n",
            "            113,\n",
            "            \"LOC\"\n",
            "        ]\n",
            "    ],\n",
            "    \"Comments\": []\n",
            "}\n",
            "{\n",
            "    \"id\": 2806,\n",
            "    \"text\": \"\\u00c3\\u00b0\\u00c5\\u00b8\\u00c5\\u00a1\\u00c2\\u00a8 Earthquake Alert \\u00c3\\u00b0\\u00c5\\u00b8\\u00c5\\u00a1\\u00c2\\u00a8 \\n\\n\\u00c3\\u00b0\\u00c5\\u00b8\\u00e2\\u20ac\\u009d\\u00c2\\u00b4 Incident: Earthquake \\n\\u00c3\\u00b0\\u00c5\\u00b8\\u00e2\\u20ac\\u0153\\u00e2\\u20ac\\u00a6 Date: 4/25/2015 \\n\\u00c3\\u00b0\\u00c5\\u00b8\\u00e2\\u20ac\\u0153\\u00c2\\u008d Location: Shey Phoksundo Rural Municipality-99, Dolpa, Karnali \\n\\nStay safe everyone! Our thoughts are with the affected community. #Earthquake #StaySafe #SheyPhoksundo #Dolpa #Karnali\",\n",
            "    \"label\": [\n",
            "        [\n",
            "            9,\n",
            "            19,\n",
            "            \"HAZ\"\n",
            "        ],\n",
            "        [\n",
            "            57,\n",
            "            68,\n",
            "            \"HAZ\"\n",
            "        ],\n",
            "        [\n",
            "            86,\n",
            "            96,\n",
            "            \"DATE\"\n",
            "        ],\n",
            "        [\n",
            "            117,\n",
            "            170,\n",
            "            \"LOC\"\n",
            "        ],\n",
            "        [\n",
            "            239,\n",
            "            249,\n",
            "            \"HAZ\"\n",
            "        ],\n",
            "        [\n",
            "            261,\n",
            "            275,\n",
            "            \"LOC\"\n",
            "        ],\n",
            "        [\n",
            "            276,\n",
            "            282,\n",
            "            \"LOC\"\n",
            "        ],\n",
            "        [\n",
            "            283,\n",
            "            290,\n",
            "            \"LOC\"\n",
            "        ]\n",
            "    ],\n",
            "    \"Comments\": []\n",
            "}\n",
            "{\n",
            "    \"id\": 2807,\n",
            "    \"text\": \"Search in Albania quake reduced, death toll at 49. Albania. Albania earthquake. AlbaniaEarthquake. Albania earthquake. Albanian. Albania terremoto. Pray for Albania. Albanian earthquake \",\n",
            "    \"label\": [\n",
            "        [\n",
            "            10,\n",
            "            18,\n",
            "            \"LOC\"\n",
            "        ],\n",
            "        [\n",
            "            51,\n",
            "            57,\n",
            "            \"LOC\"\n",
            "        ],\n",
            "        [\n",
            "            60,\n",
            "            67,\n",
            "            \"LOC\"\n",
            "        ],\n",
            "        [\n",
            "            68,\n",
            "            80,\n",
            "            \"HAZ\"\n",
            "        ],\n",
            "        [\n",
            "            80,\n",
            "            87,\n",
            "            \"LOC\"\n",
            "        ],\n",
            "        [\n",
            "            87,\n",
            "            97,\n",
            "            \"HAZ\"\n",
            "        ],\n",
            "        [\n",
            "            99,\n",
            "            106,\n",
            "            \"LOC\"\n",
            "        ],\n",
            "        [\n",
            "            107,\n",
            "            117,\n",
            "            \"HAZ\"\n",
            "        ],\n",
            "        [\n",
            "            119,\n",
            "            127,\n",
            "            \"LOC\"\n",
            "        ],\n",
            "        [\n",
            "            129,\n",
            "            146,\n",
            "            \"LOC\"\n",
            "        ],\n",
            "        [\n",
            "            157,\n",
            "            164,\n",
            "            \"LOC\"\n",
            "        ],\n",
            "        [\n",
            "            166,\n",
            "            174,\n",
            "            \"LOC\"\n",
            "        ],\n",
            "        [\n",
            "            175,\n",
            "            185,\n",
            "            \"HAZ\"\n",
            "        ]\n",
            "    ],\n",
            "    \"Comments\": []\n",
            "}\n"
          ]
        }
      ]
    },
    {
      "cell_type": "code",
      "source": [
        "#@ FUNCTION FOR PROCESSING THE DATASET:\n",
        "def convert_to_tokens(json_string):\n",
        "    val = json.loads(json_string)\n",
        "    text = val['text']\n",
        "    tags = []\n",
        "    indices = []\n",
        "    tokens, tags = [], []\n",
        "    final_list = []\n",
        "    start = 0\n",
        "    for itm in val['label']:\n",
        "        if itm[2] == \"LOC\":\n",
        "            indices.append((itm[0], itm[1], 'L'))\n",
        "        elif itm[2] == \"HAZ\":\n",
        "            indices.append((itm[0], itm[1], 'H'))\n",
        "        elif itm[2] == \"DATE\":\n",
        "            indices.append((itm[0], itm[1], 'D'))\n",
        "    indices.sort()\n",
        "    if not indices:\n",
        "        tokens = word_tokenize(text)\n",
        "        tags = [0]*len(tokens)\n",
        "        return tokens, tags\n",
        "    for itm in indices:\n",
        "        if itm[0] > start:\n",
        "            final_list.append((start, itm[0], 'SKIP'))\n",
        "        start = itm[1]\n",
        "    if indices[-1][1] < (len(text) - 1):\n",
        "        final_list.append((indices[-1][1], len(text)+1, \"SKIP\"))\n",
        "    final_list.extend(indices)\n",
        "    final_list.sort()\n",
        "    for itm in final_list:\n",
        "        if itm[2] == 'SKIP':\n",
        "            var = word_tokenize(text[itm[0]:itm[1]])\n",
        "            tokens.extend(var)\n",
        "            tags.extend([0]*len(var))\n",
        "\n",
        "        elif itm[2] == 'L':\n",
        "            var = word_tokenize(text[itm[0]:itm[1]])\n",
        "            tokens.extend(var)\n",
        "            tags.extend([1]*len(var))\n",
        "\n",
        "        elif itm[2] == 'H':\n",
        "            var = word_tokenize(text[itm[0]:itm[1]])\n",
        "            tokens.extend(var)\n",
        "            tags.extend([2]*len(var))\n",
        "\n",
        "        elif itm[2] == 'D':\n",
        "            var= word_tokenize(text[itm[0]:itm[1]])\n",
        "            tokens.extend(var)\n",
        "            tags.extend([3]*len(var))\n",
        "    return tokens, tags"
      ],
      "metadata": {
        "id": "q5mdHeNMbMud"
      },
      "execution_count": null,
      "outputs": []
    },
    {
      "cell_type": "code",
      "source": [
        "#@ PREPARING THE DATASET:\n",
        "bert_model_name = \"bert-base-uncased\"\n",
        "bert_tokenizer = AutoTokenizer.from_pretrained(bert_model_name)\n",
        "tokens, tags = [], []\n",
        "for json_line in copy.deepcopy(json_lines):\n",
        "    token, tag = convert_to_tokens(json_line)\n",
        "    tokens.append(token)\n",
        "    tags.append(tag)\n",
        "print(\"Successfully completed!\")"
      ],
      "metadata": {
        "colab": {
          "base_uri": "https://localhost:8080/"
        },
        "id": "DqP-7SXQd7ye",
        "outputId": "892218f7-0058-409e-ce1c-54ed6febd488"
      },
      "execution_count": null,
      "outputs": [
        {
          "output_type": "stream",
          "name": "stdout",
          "text": [
            "Successfully completed!\n"
          ]
        }
      ]
    },
    {
      "cell_type": "code",
      "source": [
        "#@ LOADING CUSTOM MODEL:\n",
        "tag2index = {\"Other\":0, \"LOC\":1, \"HAZ\":2, \"DATE\":3}\n",
        "index2tag = {0:\"Other\", 1:\"LOC\", 2:\"HAZ\", 3:\"DATE\"}\n",
        "bert_config = AutoConfig.from_pretrained(bert_model_name, num_labels=4,\n",
        "                                         id2label=index2tag, label2id=tag2index)"
      ],
      "metadata": {
        "id": "YpzR1uUdgWw8"
      },
      "execution_count": null,
      "outputs": []
    },
    {
      "cell_type": "code",
      "source": [
        "#@ LOADING MODEL WEIGHTS:\n",
        "device = torch.device(\"cuda\" if torch.cuda.is_available() else \"cpu\")\n",
        "xlmr_model = (AutoModelForTokenClassification.from_pretrained(\n",
        "    bert_model_name, config=bert_config).to(device))"
      ],
      "metadata": {
        "colab": {
          "base_uri": "https://localhost:8080/"
        },
        "id": "NqBCUFhSiBhs",
        "outputId": "74518f13-dba0-40a7-ad94-eddf199ec032"
      },
      "execution_count": null,
      "outputs": [
        {
          "output_type": "stream",
          "name": "stderr",
          "text": [
            "Some weights of BertForTokenClassification were not initialized from the model checkpoint at bert-base-uncased and are newly initialized: ['classifier.bias', 'classifier.weight']\n",
            "You should probably TRAIN this model on a down-stream task to be able to use it for predictions and inference.\n"
          ]
        }
      ]
    },
    {
      "cell_type": "code",
      "source": [
        "print(len(tokens))"
      ],
      "metadata": {
        "colab": {
          "base_uri": "https://localhost:8080/"
        },
        "id": "Pno2lg0cj708",
        "outputId": "b1b46b91-4a21-42b4-bbc8-c5a9ef4f5c04"
      },
      "execution_count": null,
      "outputs": [
        {
          "output_type": "stream",
          "name": "stdout",
          "text": [
            "1002\n"
          ]
        }
      ]
    },
    {
      "cell_type": "code",
      "source": [
        "lengths = [len(sequence) for sequence in tokens]\n",
        "unique_lengths = set(lengths)\n",
        "print(unique_lengths)"
      ],
      "metadata": {
        "colab": {
          "base_uri": "https://localhost:8080/"
        },
        "id": "Kz8TNJqckQEI",
        "outputId": "ed8303c2-0aa7-4139-bead-9dfc30a27fe3"
      },
      "execution_count": null,
      "outputs": [
        {
          "output_type": "stream",
          "name": "stdout",
          "text": [
            "{2, 3, 4, 5, 6, 7, 8, 9, 10, 11, 12, 13, 14, 15, 16, 17, 18, 19, 20, 21, 22, 23, 24, 25, 26, 27, 28, 29, 30, 31, 32, 33, 34, 35, 36, 37, 38, 39, 40, 41, 42, 43, 44, 45, 46, 47, 48, 49, 50, 51, 52, 53, 54, 55, 56, 57, 58, 59, 60, 61, 62, 63, 64, 65, 66, 67, 68, 69, 70, 71, 72, 73, 74, 75, 76, 77, 78, 79, 80, 81, 82, 83, 84, 85, 86, 87, 88, 89, 90, 91, 92, 93, 94, 95, 96, 97, 98, 99, 100, 101, 102, 105, 106, 107, 108, 109, 114, 116, 117, 121, 130, 131}\n"
          ]
        }
      ]
    },
    {
      "cell_type": "code",
      "source": [
        "len(unique_lengths)"
      ],
      "metadata": {
        "colab": {
          "base_uri": "https://localhost:8080/"
        },
        "id": "AYc-mQlYlEFB",
        "outputId": "ff071e9d-22d2-4136-da56-08cbb1f2d7b7"
      },
      "execution_count": null,
      "outputs": [
        {
          "output_type": "execute_result",
          "data": {
            "text/plain": [
              "112"
            ]
          },
          "metadata": {},
          "execution_count": 14
        }
      ]
    },
    {
      "cell_type": "code",
      "source": [
        "print(\"Total number of sequences:\", len(tokens))\n",
        "print(\"Total number of sequences:\", len(tags))"
      ],
      "metadata": {
        "colab": {
          "base_uri": "https://localhost:8080/"
        },
        "id": "TMGKZwrxlT7v",
        "outputId": "a92b7d2f-c417-408d-d64f-7805f75c734c"
      },
      "execution_count": null,
      "outputs": [
        {
          "output_type": "stream",
          "name": "stdout",
          "text": [
            "Total number of sequences: 1002\n",
            "Total number of sequences: 1002\n"
          ]
        }
      ]
    },
    {
      "cell_type": "code",
      "source": [
        "from collections import Counter\n",
        "length_distribution = Counter(lengths)\n",
        "for length, count in length_distribution.items():\n",
        "    print(f\"Length {length} appears {count} times\")"
      ],
      "metadata": {
        "id": "nLgiRnTplXhw",
        "colab": {
          "base_uri": "https://localhost:8080/"
        },
        "outputId": "dabee031-7191-4b03-df1b-809e70e0161f"
      },
      "execution_count": null,
      "outputs": [
        {
          "output_type": "stream",
          "name": "stdout",
          "text": [
            "Length 19 appears 5 times\n",
            "Length 45 appears 21 times\n",
            "Length 34 appears 22 times\n",
            "Length 29 appears 10 times\n",
            "Length 38 appears 19 times\n",
            "Length 51 appears 14 times\n",
            "Length 17 appears 5 times\n",
            "Length 50 appears 27 times\n",
            "Length 58 appears 15 times\n",
            "Length 44 appears 23 times\n",
            "Length 31 appears 10 times\n",
            "Length 36 appears 21 times\n",
            "Length 89 appears 3 times\n",
            "Length 37 appears 18 times\n",
            "Length 83 appears 4 times\n",
            "Length 13 appears 11 times\n",
            "Length 68 appears 9 times\n",
            "Length 32 appears 11 times\n",
            "Length 85 appears 2 times\n",
            "Length 24 appears 7 times\n",
            "Length 22 appears 2 times\n",
            "Length 114 appears 1 times\n",
            "Length 59 appears 14 times\n",
            "Length 30 appears 15 times\n",
            "Length 48 appears 30 times\n",
            "Length 15 appears 8 times\n",
            "Length 62 appears 12 times\n",
            "Length 54 appears 17 times\n",
            "Length 60 appears 13 times\n",
            "Length 46 appears 31 times\n",
            "Length 10 appears 3 times\n",
            "Length 39 appears 27 times\n",
            "Length 66 appears 8 times\n",
            "Length 26 appears 5 times\n",
            "Length 116 appears 1 times\n",
            "Length 33 appears 16 times\n",
            "Length 67 appears 14 times\n",
            "Length 98 appears 1 times\n",
            "Length 77 appears 3 times\n",
            "Length 7 appears 2 times\n",
            "Length 57 appears 15 times\n",
            "Length 69 appears 19 times\n",
            "Length 73 appears 8 times\n",
            "Length 35 appears 29 times\n",
            "Length 52 appears 20 times\n",
            "Length 28 appears 6 times\n",
            "Length 49 appears 36 times\n",
            "Length 95 appears 2 times\n",
            "Length 42 appears 27 times\n",
            "Length 81 appears 8 times\n",
            "Length 40 appears 19 times\n",
            "Length 91 appears 4 times\n",
            "Length 76 appears 9 times\n",
            "Length 72 appears 5 times\n",
            "Length 71 appears 9 times\n",
            "Length 43 appears 25 times\n",
            "Length 84 appears 3 times\n",
            "Length 56 appears 9 times\n",
            "Length 65 appears 12 times\n",
            "Length 61 appears 8 times\n",
            "Length 53 appears 8 times\n",
            "Length 94 appears 3 times\n",
            "Length 41 appears 29 times\n",
            "Length 64 appears 8 times\n",
            "Length 90 appears 10 times\n",
            "Length 86 appears 5 times\n",
            "Length 16 appears 9 times\n",
            "Length 107 appears 2 times\n",
            "Length 14 appears 5 times\n",
            "Length 8 appears 3 times\n",
            "Length 25 appears 4 times\n",
            "Length 11 appears 4 times\n",
            "Length 47 appears 28 times\n",
            "Length 131 appears 1 times\n",
            "Length 80 appears 4 times\n",
            "Length 55 appears 14 times\n",
            "Length 75 appears 5 times\n",
            "Length 9 appears 5 times\n",
            "Length 130 appears 1 times\n",
            "Length 27 appears 5 times\n",
            "Length 78 appears 2 times\n",
            "Length 100 appears 3 times\n",
            "Length 82 appears 6 times\n",
            "Length 3 appears 2 times\n",
            "Length 23 appears 8 times\n",
            "Length 4 appears 3 times\n",
            "Length 63 appears 9 times\n",
            "Length 105 appears 3 times\n",
            "Length 79 appears 4 times\n",
            "Length 109 appears 1 times\n",
            "Length 88 appears 4 times\n",
            "Length 96 appears 2 times\n",
            "Length 97 appears 4 times\n",
            "Length 70 appears 4 times\n",
            "Length 6 appears 2 times\n",
            "Length 117 appears 1 times\n",
            "Length 21 appears 6 times\n",
            "Length 74 appears 8 times\n",
            "Length 20 appears 2 times\n",
            "Length 121 appears 1 times\n",
            "Length 101 appears 2 times\n",
            "Length 99 appears 1 times\n",
            "Length 106 appears 1 times\n",
            "Length 108 appears 1 times\n",
            "Length 87 appears 3 times\n",
            "Length 18 appears 2 times\n",
            "Length 12 appears 4 times\n",
            "Length 93 appears 3 times\n",
            "Length 92 appears 1 times\n",
            "Length 102 appears 1 times\n",
            "Length 2 appears 1 times\n",
            "Length 5 appears 1 times\n"
          ]
        }
      ]
    },
    {
      "cell_type": "code",
      "source": [
        "max_len = 131\n",
        "padded_tokens = []\n",
        "for seq in tokens:\n",
        "    # Truncate if longer than max_len\n",
        "    truncated = seq[:max_len]\n",
        "    # Pad if shorter than max_len\n",
        "    padded = truncated + ['<PAD>'] * (max_len - len(truncated))\n",
        "    padded_tokens.append(padded)\n"
      ],
      "metadata": {
        "id": "-oLYZV-zkncO"
      },
      "execution_count": null,
      "outputs": []
    },
    {
      "cell_type": "code",
      "source": [
        "#@ Visualisation of 5 sequences of tags before processing\n",
        "for i in range(5):\n",
        "    print(f\"Sequence {i+1}: {tags[i]}\")\n",
        "    print(f\"Length of sequence {i+1}: {len(tags[i])}\\n\")\n"
      ],
      "metadata": {
        "colab": {
          "base_uri": "https://localhost:8080/"
        },
        "id": "5c_8b9jhontt",
        "outputId": "25a144c1-f237-4572-a7b3-b12fd5a934aa"
      },
      "execution_count": null,
      "outputs": [
        {
          "output_type": "stream",
          "name": "stdout",
          "text": [
            "Sequence 1: [0, 0, 0, 0, 0, 0, 0, 0, 1, 1, 2, 0, 0, 0, 3, 0, 1, 1, 0]\n",
            "Length of sequence 1: 19\n",
            "\n",
            "Sequence 2: [0, 2, 0, 0, 0, 0, 0, 2, 0, 0, 0, 3, 0, 0, 0, 1, 1, 1, 1, 1, 1, 1, 1, 0, 0, 0, 0, 0, 0, 0, 0, 0, 0, 0, 0, 0, 2, 0, 0, 0, 1, 0, 1, 0, 1]\n",
            "Length of sequence 2: 45\n",
            "\n",
            "Sequence 3: [0, 0, 1, 0, 0, 0, 0, 0, 0, 0, 0, 1, 0, 0, 1, 2, 2, 1, 2, 0, 1, 2, 0, 1, 0, 1, 1, 0, 0, 0, 1, 0, 1, 2]\n",
            "Length of sequence 3: 34\n",
            "\n",
            "Sequence 4: [0, 0, 0, 0, 2, 0, 0, 1, 1, 1, 1, 1, 1, 1, 0, 0, 0, 0, 0, 0, 0, 0, 0, 0, 0, 0, 2, 0, 0]\n",
            "Length of sequence 4: 29\n",
            "\n",
            "Sequence 5: [0, 0, 0, 0, 2, 0, 0, 1, 1, 1, 1, 1, 1, 1, 1, 1, 1, 1, 1, 0, 0, 0, 0, 0, 0, 0, 0, 0, 0, 0, 2, 0, 0, 1, 0, 1, 0, 0]\n",
            "Length of sequence 5: 38\n",
            "\n"
          ]
        }
      ]
    },
    {
      "cell_type": "markdown",
      "source": [
        "🛠️🎯**Padding** these sequences to a uniform length for input into a model, that clearly indicates 'no entity' or 'padding'. Since 0 is already being used in as no entity, it's the most logical choice for the padding value as well. This way, the padded positions will not be mistaken for actual entities."
      ],
      "metadata": {
        "id": "x12Er8D_pz39"
      }
    },
    {
      "cell_type": "code",
      "source": [
        "padded_tags = []\n",
        "for tag_seq in tags:\n",
        "    # Truncate if longer than max_len\n",
        "    truncated = tag_seq[:max_len]\n",
        "    # Pad if shorter than max_len, using a tag that indicates 'padding' or 'no entity'\n",
        "    padded = truncated + [0] * (max_len - len(truncated))\n",
        "    padded_tags.append(padded)\n",
        "# y = np.array(padded_tags)\n"
      ],
      "metadata": {
        "id": "kPmECtdzn20v"
      },
      "execution_count": null,
      "outputs": []
    },
    {
      "cell_type": "code",
      "source": [
        "#@ PREPARING THE DATASET:\n",
        "X = np.array(padded_tokens)\n",
        "y = np.array(padded_tags)\n",
        "X_train, X_test, y_train, y_test = train_test_split(X, y, test_size=0.30,\n",
        "                                                    random_state=42)\n",
        "train = pd.DataFrame({\"tokens\":X_train.tolist(), \"ner_tags\":y_train.tolist()})\n",
        "validation = pd.DataFrame({\"tokens\":X_test.tolist(),\n",
        "                           \"ner_tags\":y_test.tolist()})\n",
        "train = Dataset.from_pandas(train)\n",
        "validation = Dataset.from_pandas(validation)\n",
        "data_dict = datasets.DatasetDict({\"train\":train, \"test\":validation})"
      ],
      "metadata": {
        "id": "X8ifu4RLiMaC"
      },
      "execution_count": null,
      "outputs": []
    },
    {
      "cell_type": "code",
      "source": [
        "#@ TOKENIZING TEXT FOR NER:\n",
        "def tokenize_and_align_labels(examples):\n",
        "    tokenized_inputs = bert_tokenizer(examples[\"tokens\"], truncation=True,\n",
        "                                      is_split_into_words=True)\n",
        "    labels = []\n",
        "    for idx, label in enumerate(examples[\"ner_tags\"]):\n",
        "        word_ids = tokenized_inputs.word_ids(batch_index=idx)\n",
        "        previous_word_idx = None\n",
        "        label_ids = []\n",
        "        for word_idx in word_ids:\n",
        "            if word_idx is None or word_idx == previous_word_idx:\n",
        "                label_ids.append(-100)\n",
        "            else:\n",
        "                label_ids.append(label[word_idx])\n",
        "            previous_word_idx = word_idx\n",
        "        labels.append(label_ids)\n",
        "    tokenized_inputs[\"labels\"] = labels\n",
        "    return tokenized_inputs\n",
        "\n",
        "#@ ENCODING DATASET:\n",
        "dd_encoded = data_dict.map(tokenize_and_align_labels, batched=True)\n",
        "dd_encoded['train']\n"
      ],
      "metadata": {
        "colab": {
          "base_uri": "https://localhost:8080/",
          "height": 150,
          "referenced_widgets": [
            "ae897a9c1ba94e96a9e9751e7b7ced76",
            "7911dbce1fff4b8d97ea6be8b3bf3890",
            "6b6e168546ff49619d617832e2de312a",
            "95c86bbc2b344758b06dd8436e0d420d",
            "a74a867773ff4d849150b2bfbff3d2e7",
            "bb71e69e63194171a6386a0f1fdd76b7",
            "2b0be8ee05d747bf84a8a3657b1c1fa9",
            "0fd7218c379f4688b69272f76f530d12",
            "0b4452a51f3a4786b1dc20224e57b55b",
            "1475cc5f831c40c9bcd8aab453844848",
            "545700e18daf4d9993dcad6a792a71fd",
            "2c6e23087baa4c20a3cd7d58bbd70220",
            "8823f879617444919788bc03825f0114",
            "2153b12c1d7a4537b4259f2961a0843c",
            "23a954d913b04ad5bd9563264007aa97",
            "14dd7ac639484ba4a2f3683aba5236bc",
            "4c13d053cfa64710a7181caa3b2558f8",
            "57cc4a59e2524690babf71b8f2d72cfa",
            "757f24e8e49f4e4a8fc67ce2ce4f8ead",
            "e812ca7648bb4ae19002189532b7e73f",
            "a6375c0130d64078b36100ea34b041a2",
            "9e54914182cd4d7b828847853a776964"
          ]
        },
        "id": "kxTSbQsiihGk",
        "outputId": "981169f5-0926-4ed4-9378-3c15b79c214a"
      },
      "execution_count": null,
      "outputs": [
        {
          "output_type": "display_data",
          "data": {
            "text/plain": [
              "Map:   0%|          | 0/701 [00:00<?, ? examples/s]"
            ],
            "application/vnd.jupyter.widget-view+json": {
              "version_major": 2,
              "version_minor": 0,
              "model_id": "ae897a9c1ba94e96a9e9751e7b7ced76"
            }
          },
          "metadata": {}
        },
        {
          "output_type": "display_data",
          "data": {
            "text/plain": [
              "Map:   0%|          | 0/301 [00:00<?, ? examples/s]"
            ],
            "application/vnd.jupyter.widget-view+json": {
              "version_major": 2,
              "version_minor": 0,
              "model_id": "2c6e23087baa4c20a3cd7d58bbd70220"
            }
          },
          "metadata": {}
        },
        {
          "output_type": "execute_result",
          "data": {
            "text/plain": [
              "Dataset({\n",
              "    features: ['tokens', 'ner_tags', 'input_ids', 'token_type_ids', 'attention_mask', 'labels'],\n",
              "    num_rows: 701\n",
              "})"
            ]
          },
          "metadata": {},
          "execution_count": 21
        }
      ]
    },
    {
      "cell_type": "markdown",
      "source": [
        "#### **Fine Tuning the HF Model**"
      ],
      "metadata": {
        "id": "k7X2wbferVW1"
      }
    },
    {
      "cell_type": "code",
      "source": [
        "# !pip install transformers[torch]\n",
        "!pip install transformers[torch] -U"
      ],
      "metadata": {
        "id": "USeVFcPurt_e",
        "colab": {
          "base_uri": "https://localhost:8080/"
        },
        "outputId": "b52bb46c-b479-47f3-b797-6630b850d30c"
      },
      "execution_count": null,
      "outputs": [
        {
          "output_type": "stream",
          "name": "stdout",
          "text": [
            "Requirement already satisfied: transformers[torch] in /usr/local/lib/python3.10/dist-packages (4.38.2)\n",
            "Requirement already satisfied: filelock in /usr/local/lib/python3.10/dist-packages (from transformers[torch]) (3.13.1)\n",
            "Requirement already satisfied: huggingface-hub<1.0,>=0.19.3 in /usr/local/lib/python3.10/dist-packages (from transformers[torch]) (0.20.3)\n",
            "Requirement already satisfied: numpy>=1.17 in /usr/local/lib/python3.10/dist-packages (from transformers[torch]) (1.25.2)\n",
            "Requirement already satisfied: packaging>=20.0 in /usr/local/lib/python3.10/dist-packages (from transformers[torch]) (23.2)\n",
            "Requirement already satisfied: pyyaml>=5.1 in /usr/local/lib/python3.10/dist-packages (from transformers[torch]) (6.0.1)\n",
            "Requirement already satisfied: regex!=2019.12.17 in /usr/local/lib/python3.10/dist-packages (from transformers[torch]) (2023.12.25)\n",
            "Requirement already satisfied: requests in /usr/local/lib/python3.10/dist-packages (from transformers[torch]) (2.31.0)\n",
            "Requirement already satisfied: tokenizers<0.19,>=0.14 in /usr/local/lib/python3.10/dist-packages (from transformers[torch]) (0.15.2)\n",
            "Requirement already satisfied: safetensors>=0.4.1 in /usr/local/lib/python3.10/dist-packages (from transformers[torch]) (0.4.2)\n",
            "Requirement already satisfied: tqdm>=4.27 in /usr/local/lib/python3.10/dist-packages (from transformers[torch]) (4.66.2)\n",
            "Requirement already satisfied: torch in /usr/local/lib/python3.10/dist-packages (from transformers[torch]) (2.1.0+cu121)\n",
            "Requirement already satisfied: accelerate>=0.21.0 in /usr/local/lib/python3.10/dist-packages (from transformers[torch]) (0.27.2)\n",
            "Requirement already satisfied: psutil in /usr/local/lib/python3.10/dist-packages (from accelerate>=0.21.0->transformers[torch]) (5.9.5)\n",
            "Requirement already satisfied: fsspec>=2023.5.0 in /usr/local/lib/python3.10/dist-packages (from huggingface-hub<1.0,>=0.19.3->transformers[torch]) (2023.6.0)\n",
            "Requirement already satisfied: typing-extensions>=3.7.4.3 in /usr/local/lib/python3.10/dist-packages (from huggingface-hub<1.0,>=0.19.3->transformers[torch]) (4.10.0)\n",
            "Requirement already satisfied: sympy in /usr/local/lib/python3.10/dist-packages (from torch->transformers[torch]) (1.12)\n",
            "Requirement already satisfied: networkx in /usr/local/lib/python3.10/dist-packages (from torch->transformers[torch]) (3.2.1)\n",
            "Requirement already satisfied: jinja2 in /usr/local/lib/python3.10/dist-packages (from torch->transformers[torch]) (3.1.3)\n",
            "Requirement already satisfied: triton==2.1.0 in /usr/local/lib/python3.10/dist-packages (from torch->transformers[torch]) (2.1.0)\n",
            "Requirement already satisfied: charset-normalizer<4,>=2 in /usr/local/lib/python3.10/dist-packages (from requests->transformers[torch]) (3.3.2)\n",
            "Requirement already satisfied: idna<4,>=2.5 in /usr/local/lib/python3.10/dist-packages (from requests->transformers[torch]) (3.6)\n",
            "Requirement already satisfied: urllib3<3,>=1.21.1 in /usr/local/lib/python3.10/dist-packages (from requests->transformers[torch]) (2.0.7)\n",
            "Requirement already satisfied: certifi>=2017.4.17 in /usr/local/lib/python3.10/dist-packages (from requests->transformers[torch]) (2024.2.2)\n",
            "Requirement already satisfied: MarkupSafe>=2.0 in /usr/local/lib/python3.10/dist-packages (from jinja2->torch->transformers[torch]) (2.1.5)\n",
            "Requirement already satisfied: mpmath>=0.19 in /usr/local/lib/python3.10/dist-packages (from sympy->torch->transformers[torch]) (1.3.0)\n"
          ]
        }
      ]
    },
    {
      "cell_type": "code",
      "source": [
        "pip show accelerate"
      ],
      "metadata": {
        "colab": {
          "base_uri": "https://localhost:8080/"
        },
        "id": "jzZKVHnlsIUu",
        "outputId": "52148d72-776f-4dbf-fc26-fd5cd3d4c554"
      },
      "execution_count": null,
      "outputs": [
        {
          "output_type": "stream",
          "name": "stdout",
          "text": [
            "Name: accelerate\n",
            "Version: 0.27.2\n",
            "Summary: Accelerate\n",
            "Home-page: https://github.com/huggingface/accelerate\n",
            "Author: The HuggingFace team\n",
            "Author-email: sylvain@huggingface.co\n",
            "License: Apache\n",
            "Location: /usr/local/lib/python3.10/dist-packages\n",
            "Requires: huggingface-hub, numpy, packaging, psutil, pyyaml, safetensors, torch\n",
            "Required-by: \n"
          ]
        }
      ]
    },
    {
      "cell_type": "code",
      "source": [
        "#@ INITIALIZING TRAINING ARGUMENTS:\n",
        "num_epochs = 50\n",
        "batch_size = 8\n",
        "model_name = f\"{bert_model_name}-finetuned\"\n",
        "training_args = TrainingArguments(\n",
        "    output_dir=os.path.join(output_path, model_name),\n",
        "    log_level=\"error\",\n",
        "    num_train_epochs=num_epochs,\n",
        "    learning_rate=2e-5,\n",
        "    per_device_train_batch_size=batch_size,\n",
        "    per_device_eval_batch_size=batch_size,\n",
        "    evaluation_strategy=\"steps\",\n",
        "    weight_decay=0.01, load_best_model_at_end=True,\n",
        "    eval_steps=50, push_to_hub=False)"
      ],
      "metadata": {
        "id": "PbQTnWByNMtK"
      },
      "execution_count": null,
      "outputs": []
    },
    {
      "cell_type": "code",
      "source": [
        "# #@ INITIALIZING TRAINING ARGUMENTS:\n",
        "# num_epochs = 50\n",
        "# batch_size = 8\n",
        "# model_name = f\"{bert_model_name}-finetuned\"\n",
        "# training_args = TrainingArguments(\n",
        "#     output_dir=model_name, log_level=\"error\",\n",
        "#     num_train_epochs=num_epochs,\n",
        "#     learning_rate=2e-5,\n",
        "#     per_device_train_batch_size=batch_size,\n",
        "#     per_device_eval_batch_size=batch_size,\n",
        "#     evaluation_strategy=\"steps\",\n",
        "#     weight_decay=0.01, load_best_model_at_end=True,\n",
        "#     eval_steps = 50, push_to_hub=False)"
      ],
      "metadata": {
        "id": "fn1bsbEzrYfL"
      },
      "execution_count": null,
      "outputs": []
    },
    {
      "cell_type": "markdown",
      "source": [
        "#### **Performance Metrices**"
      ],
      "metadata": {
        "id": "OE50OLiouWkz"
      }
    },
    {
      "cell_type": "code",
      "source": [
        "#@ FUNCTION FOR PERFORMANCE MEASURES:\n",
        "def align_predictions(predictions, label_ids):\n",
        "    preds = np.argmax(predictions, axis=2)\n",
        "    batch_size, seq_len = preds.shape\n",
        "    labels_list, preds_list = [], []\n",
        "    for batch_idx in range(batch_size):\n",
        "        example_labels, example_preds = [], []\n",
        "        for seq_idx in range(seq_len):\n",
        "            if label_ids[batch_idx, seq_idx] != -100:\n",
        "                example_labels.append(index2tag[label_ids[batch_idx][seq_idx]])\n",
        "                example_preds.append(index2tag[preds[batch_idx][seq_idx]])\n",
        "        labels_list.append(example_labels)\n",
        "        preds_list.append(example_preds)\n",
        "    return preds_list, labels_list"
      ],
      "metadata": {
        "id": "FfTfeHdGrjlU"
      },
      "execution_count": null,
      "outputs": []
    },
    {
      "cell_type": "code",
      "source": [
        "#@ COMPUTING METRICS:\n",
        "def compute_metrics(eval_pred):\n",
        "    y_pred, y_true = align_predictions(eval_pred.predictions,\n",
        "                                       eval_pred.label_ids)\n",
        "    return {\"f1\": f1_score(y_true, y_pred)}"
      ],
      "metadata": {
        "id": "SIOQdj_HuccC"
      },
      "execution_count": null,
      "outputs": []
    },
    {
      "cell_type": "code",
      "source": [
        "#@ INITIALIZING DATA COLLATOR:\n",
        "data_collator = DataCollatorForTokenClassification(bert_tokenizer)\n",
        "\n",
        "#@ MODEL INITIALIZER:\n",
        "def model_init():\n",
        "    return (AutoModelForTokenClassification\n",
        "            .from_pretrained(bert_model_name, config=bert_config)\n",
        "            .to(device))\n"
      ],
      "metadata": {
        "id": "SzOu6kdMujAy"
      },
      "execution_count": null,
      "outputs": []
    },
    {
      "cell_type": "code",
      "source": [
        "\n",
        "#@ TRAINING THE MODEL:\n",
        "trainer = Trainer(model_init=model_init, args=training_args,\n",
        "                  data_collator=data_collator,\n",
        "                  compute_metrics=compute_metrics,                      # Computing metrics.\n",
        "                  train_dataset=dd_encoded[\"train\"],                    # Training dataset.\n",
        "                  eval_dataset=dd_encoded[\"test\"],                      # Test dataset.\n",
        "                  tokenizer=bert_tokenizer,\n",
        "                  callbacks = [EarlyStoppingCallback(\n",
        "                      early_stopping_patience=2)])                      # Initializing trainer.\n",
        "trainer.train()"
      ],
      "metadata": {
        "colab": {
          "base_uri": "https://localhost:8080/",
          "height": 75
        },
        "id": "rOzebqL4unpD",
        "outputId": "ab6b5851-9657-48df-a995-3ed13e96fd71"
      },
      "execution_count": null,
      "outputs": [
        {
          "output_type": "display_data",
          "data": {
            "text/plain": [
              "<IPython.core.display.HTML object>"
            ],
            "text/html": [
              "\n",
              "    <div>\n",
              "      \n",
              "      <progress value='20' max='4400' style='width:300px; height:20px; vertical-align: middle;'></progress>\n",
              "      [  20/4400 00:10 < 42:51, 1.70 it/s, Epoch 0.22/50]\n",
              "    </div>\n",
              "    <table border=\"1\" class=\"dataframe\">\n",
              "  <thead>\n",
              " <tr style=\"text-align: left;\">\n",
              "      <th>Step</th>\n",
              "      <th>Training Loss</th>\n",
              "      <th>Validation Loss</th>\n",
              "    </tr>\n",
              "  </thead>\n",
              "  <tbody>\n",
              "  </tbody>\n",
              "</table><p>"
            ]
          },
          "metadata": {}
        }
      ]
    },
    {
      "cell_type": "code",
      "source": [
        "#@ MODEL EVALUATION:\n",
        "model = AutoModelForTokenClassification.from_pretrained(\"/content/bert-base-uncased-finetuned/checkpoint-500\").to(\"cpu\")\n",
        "nlp = pipeline('ner', model=model, tokenizer=bert_tokenizer)\n",
        "s = \"\"\"\n",
        "stay safe. Gorkha earthquake in 2017 baisakh 15.\"\"\"\n",
        "print(nlp(s, aggregation_strategy=\"average\"))"
      ],
      "metadata": {
        "id": "rgKua8sYxGkx"
      },
      "execution_count": null,
      "outputs": []
    }
  ]
}